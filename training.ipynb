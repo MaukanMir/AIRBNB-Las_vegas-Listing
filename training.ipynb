{
 "cells": [
  {
   "cell_type": "markdown",
   "metadata": {},
   "source": [
    "# Airbnb Las Vegas Sentiment Analysis"
   ]
  },
  {
   "cell_type": "markdown",
   "metadata": {},
   "source": [
    "# Imports"
   ]
  },
  {
   "cell_type": "code",
   "execution_count": 1,
   "metadata": {},
   "outputs": [],
   "source": [
    "import pandas as pd\n",
    "import numpy as np\n",
    "import seaborn as sns\n",
    "import matplotlib.pyplot as plt\n",
    "import re\n",
    "\n",
    "# Models \n",
    "from sklearn.neighbors import KNeighborsClassifier\n",
    "from sklearn.ensemble import GradientBoostingClassifier\n",
    "from sklearn.naive_bayes import GaussianNB\n",
    "from sklearn.linear_model import LogisticRegression\n",
    "from sklearn.tree import DecisionTreeClassifier\n",
    "from sklearn.ensemble import RandomForestClassifier\n",
    "from sklearn.svm import SVC\n",
    "from sklearn.naive_bayes import MultinomialNB\n",
    "from sklearn.discriminant_analysis import LinearDiscriminantAnalysis\n",
    "from sklearn.gaussian_process import GaussianProcessClassifier\n",
    "from xgboost import XGBClassifier\n",
    "\n",
    "# Data Processing\n",
    "from sklearn.model_selection import train_test_split\n",
    "from sklearn.metrics import accuracy_score, confusion_matrix, classification_report\n",
    "from sklearn.metrics import make_scorer, f1_score\n",
    "from sklearn.model_selection import RepeatedStratifiedKFold, cross_val_score, GridSearchCV\n",
    "from imblearn.over_sampling import SMOTE, BorderlineSMOTE, ADASYN\n",
    "\n",
    "from transformers import AutoTokenizer, AutoModelForSequenceClassification, AutoModel\n",
    "\n",
    "\n",
    "from collections import Counter\n",
    "\n",
    "import torch\n",
    "from sklearn.feature_extraction.text import ENGLISH_STOP_WORDS\n",
    "from nltk.tokenize import word_tokenize\n",
    "from scipy.special import softmax\n",
    "\n",
    "import os\n",
    "os.environ[\"TOKENIZERS_PARALLELISM\"] = \"false\""
   ]
  },
  {
   "cell_type": "markdown",
   "metadata": {},
   "source": [
    "# Functions"
   ]
  },
  {
   "cell_type": "code",
   "execution_count": 2,
   "metadata": {},
   "outputs": [],
   "source": [
    "def check_class_imbalance(df:pd.DataFrame, target:pd.Series, col:str):\n",
    "  counter = Counter(target)\n",
    "  for k,v in counter.items():\n",
    "    per = v/len(target) * 100\n",
    "    print(\"Class=%s, Count=%d, Percentage=%.3f%%\" % (k,v, per))\n",
    "  \n",
    "  ax = df[col].value_counts().sort_index().plot(\n",
    "  kind=\"bar\", \n",
    "  title=\"Count of Reviews by Target\", \n",
    "  figsize=(10,5)\n",
    "  )\n",
    "  ax.set_xlabel(col)\n",
    "  plt.show()\n",
    "\n",
    "def evaluate_model(X, y, model):\n",
    "  cv = RepeatedStratifiedKFold(n_splits=5, n_repeats=3, random_state=1)\n",
    "  \n",
    "  metric = make_scorer(f1_score)\n",
    "  scores = cross_val_score(model, X, y, scoring=metric, cv=cv, n_jobs=-1)\n",
    "  return scores\n",
    "\n",
    "def testing_selected_models(names:list, models:list, X:pd.DataFrame, y:pd.Series):\n",
    "    \"\"\"\n",
    "    Runs multiple subsets on folds of data\n",
    "\n",
    "    Args:\n",
    "        names (list): _description_\n",
    "        models (list): _description_\n",
    "    \"\"\"\n",
    "    model_performance = []\n",
    "    for i in range(len(models)):\n",
    "        model = models[i]\n",
    "        scores = evaluate_model(X, y, model)\n",
    "        model_performance.append({\n",
    "            \"Model\": names[i],\n",
    "            \"Mean\": np.mean(scores),\n",
    "            \"STD\":np.std(scores)\n",
    "        })\n",
    "    performance_df = pd.DataFrame(model_performance)\n",
    "    return performance_df.sort_values(by=\"Mean\", ascending=False)\n",
    "  \n",
    "def get_selected_models(names):\n",
    "  \"\"\"\n",
    "  Returns selected models for ML processing\n",
    "\n",
    "  Args:\n",
    "      names (_type_):List\n",
    "\n",
    "  Returns:\n",
    "      List of models\n",
    "  \"\"\"\n",
    "  models = {\n",
    "    \"LDA\": LinearDiscriminantAnalysis(),\n",
    "    \"GPC\": GaussianProcessClassifier(),\n",
    "    \"GNB\": GaussianNB(),\n",
    "    \"SVC\": SVC(),\n",
    "    \"LR\":LogisticRegression(max_iter=1000),\n",
    "    \"KNN\": KNeighborsClassifier(),\n",
    "    \"DTC\": DecisionTreeClassifier(),\n",
    "    \"GBC\":GradientBoostingClassifier(),\n",
    "    \"RFC\":RandomForestClassifier(),\n",
    "    \"XGB\": XGBClassifier(),\n",
    "    \"MN\": MultinomialNB()\n",
    "  }\n",
    "  \n",
    "  return [models[model] for model in names]"
   ]
  },
  {
   "cell_type": "markdown",
   "metadata": {},
   "source": [
    "# EDA Analysis"
   ]
  },
  {
   "cell_type": "code",
   "execution_count": 26,
   "metadata": {},
   "outputs": [
    {
     "data": {
      "text/html": [
       "<div>\n",
       "<style scoped>\n",
       "    .dataframe tbody tr th:only-of-type {\n",
       "        vertical-align: middle;\n",
       "    }\n",
       "\n",
       "    .dataframe tbody tr th {\n",
       "        vertical-align: top;\n",
       "    }\n",
       "\n",
       "    .dataframe thead th {\n",
       "        text-align: right;\n",
       "    }\n",
       "</style>\n",
       "<table border=\"1\" class=\"dataframe\">\n",
       "  <thead>\n",
       "    <tr style=\"text-align: right;\">\n",
       "      <th></th>\n",
       "      <th>roomType</th>\n",
       "      <th>stars</th>\n",
       "      <th>address</th>\n",
       "      <th>numberOfGuests</th>\n",
       "      <th>primaryHost/smartName</th>\n",
       "      <th>price</th>\n",
       "      <th>firstReviewComments</th>\n",
       "      <th>firstReviewRating</th>\n",
       "    </tr>\n",
       "  </thead>\n",
       "  <tbody>\n",
       "    <tr>\n",
       "      <th>0</th>\n",
       "      <td>Entire condo</td>\n",
       "      <td>4.54</td>\n",
       "      <td>Las Vegas, Nevada, United States</td>\n",
       "      <td>4</td>\n",
       "      <td>Doug</td>\n",
       "      <td>NaN</td>\n",
       "      <td>Overall, I had a good experience. The only dow...</td>\n",
       "      <td>4.0</td>\n",
       "    </tr>\n",
       "    <tr>\n",
       "      <th>1</th>\n",
       "      <td>Entire rental unit</td>\n",
       "      <td>4.39</td>\n",
       "      <td>Las Vegas, Nevada, United States</td>\n",
       "      <td>4</td>\n",
       "      <td>Doug</td>\n",
       "      <td>NaN</td>\n",
       "      <td>I stayed an extra night. That should sum it up...</td>\n",
       "      <td>5.0</td>\n",
       "    </tr>\n",
       "    <tr>\n",
       "      <th>2</th>\n",
       "      <td>Entire guest suite</td>\n",
       "      <td>NaN</td>\n",
       "      <td>Las Vegas, Nevada, United States</td>\n",
       "      <td>4</td>\n",
       "      <td>Aaron&amp;Tina</td>\n",
       "      <td>NaN</td>\n",
       "      <td>These days things are so impersonable but she ...</td>\n",
       "      <td>5.0</td>\n",
       "    </tr>\n",
       "    <tr>\n",
       "      <th>3</th>\n",
       "      <td>Entire condo</td>\n",
       "      <td>NaN</td>\n",
       "      <td>Las Vegas, Nevada, United States</td>\n",
       "      <td>6</td>\n",
       "      <td>Aaron&amp;Tina</td>\n",
       "      <td>NaN</td>\n",
       "      <td>Great response time from owner. Could message ...</td>\n",
       "      <td>5.0</td>\n",
       "    </tr>\n",
       "    <tr>\n",
       "      <th>4</th>\n",
       "      <td>Private room in home</td>\n",
       "      <td>4.51</td>\n",
       "      <td>Las Vegas, Nevada, United States</td>\n",
       "      <td>2</td>\n",
       "      <td>Brad</td>\n",
       "      <td>NaN</td>\n",
       "      <td>good group of guys in the house. quiet clean a...</td>\n",
       "      <td>5.0</td>\n",
       "    </tr>\n",
       "    <tr>\n",
       "      <th>...</th>\n",
       "      <td>...</td>\n",
       "      <td>...</td>\n",
       "      <td>...</td>\n",
       "      <td>...</td>\n",
       "      <td>...</td>\n",
       "      <td>...</td>\n",
       "      <td>...</td>\n",
       "      <td>...</td>\n",
       "    </tr>\n",
       "    <tr>\n",
       "      <th>995</th>\n",
       "      <td>Entire condo</td>\n",
       "      <td>5.00</td>\n",
       "      <td>Las Vegas, Nevada, United States</td>\n",
       "      <td>4</td>\n",
       "      <td>Rich</td>\n",
       "      <td>NaN</td>\n",
       "      <td>First time doing a long term rental. The bar w...</td>\n",
       "      <td>5.0</td>\n",
       "    </tr>\n",
       "    <tr>\n",
       "      <th>996</th>\n",
       "      <td>Entire home</td>\n",
       "      <td>4.77</td>\n",
       "      <td>Henderson, Nevada, United States</td>\n",
       "      <td>7</td>\n",
       "      <td>Hostit</td>\n",
       "      <td>NaN</td>\n",
       "      <td>This is my 2nd time staying here, great house,...</td>\n",
       "      <td>5.0</td>\n",
       "    </tr>\n",
       "    <tr>\n",
       "      <th>997</th>\n",
       "      <td>Entire condo</td>\n",
       "      <td>4.93</td>\n",
       "      <td>Lake Las Vegas, Henderson, Nevada, United States</td>\n",
       "      <td>2</td>\n",
       "      <td>Cece</td>\n",
       "      <td>NaN</td>\n",
       "      <td>Really nice little studio! I spent a month her...</td>\n",
       "      <td>5.0</td>\n",
       "    </tr>\n",
       "    <tr>\n",
       "      <th>998</th>\n",
       "      <td>Entire home</td>\n",
       "      <td>5.00</td>\n",
       "      <td>Las Vegas, Nevada, United States</td>\n",
       "      <td>8</td>\n",
       "      <td>Kun</td>\n",
       "      <td>NaN</td>\n",
       "      <td>A stunning house, it was a pleasure to stay th...</td>\n",
       "      <td>5.0</td>\n",
       "    </tr>\n",
       "    <tr>\n",
       "      <th>999</th>\n",
       "      <td>Room in hotel</td>\n",
       "      <td>NaN</td>\n",
       "      <td>Las Vegas, Nevada, United States</td>\n",
       "      <td>8</td>\n",
       "      <td>Suiteness</td>\n",
       "      <td>NaN</td>\n",
       "      <td>NaN</td>\n",
       "      <td>NaN</td>\n",
       "    </tr>\n",
       "  </tbody>\n",
       "</table>\n",
       "<p>1000 rows × 8 columns</p>\n",
       "</div>"
      ],
      "text/plain": [
       "                 roomType  stars  \\\n",
       "0            Entire condo   4.54   \n",
       "1      Entire rental unit   4.39   \n",
       "2      Entire guest suite    NaN   \n",
       "3            Entire condo    NaN   \n",
       "4    Private room in home   4.51   \n",
       "..                    ...    ...   \n",
       "995          Entire condo   5.00   \n",
       "996           Entire home   4.77   \n",
       "997          Entire condo   4.93   \n",
       "998           Entire home   5.00   \n",
       "999         Room in hotel    NaN   \n",
       "\n",
       "                                              address  numberOfGuests  \\\n",
       "0                    Las Vegas, Nevada, United States               4   \n",
       "1                    Las Vegas, Nevada, United States               4   \n",
       "2                    Las Vegas, Nevada, United States               4   \n",
       "3                    Las Vegas, Nevada, United States               6   \n",
       "4                    Las Vegas, Nevada, United States               2   \n",
       "..                                                ...             ...   \n",
       "995                  Las Vegas, Nevada, United States               4   \n",
       "996                  Henderson, Nevada, United States               7   \n",
       "997  Lake Las Vegas, Henderson, Nevada, United States               2   \n",
       "998                  Las Vegas, Nevada, United States               8   \n",
       "999                  Las Vegas, Nevada, United States               8   \n",
       "\n",
       "    primaryHost/smartName  price  \\\n",
       "0                    Doug    NaN   \n",
       "1                    Doug    NaN   \n",
       "2              Aaron&Tina    NaN   \n",
       "3              Aaron&Tina    NaN   \n",
       "4                    Brad    NaN   \n",
       "..                    ...    ...   \n",
       "995                  Rich    NaN   \n",
       "996                Hostit    NaN   \n",
       "997                  Cece    NaN   \n",
       "998                   Kun    NaN   \n",
       "999             Suiteness    NaN   \n",
       "\n",
       "                                   firstReviewComments  firstReviewRating  \n",
       "0    Overall, I had a good experience. The only dow...                4.0  \n",
       "1    I stayed an extra night. That should sum it up...                5.0  \n",
       "2    These days things are so impersonable but she ...                5.0  \n",
       "3    Great response time from owner. Could message ...                5.0  \n",
       "4    good group of guys in the house. quiet clean a...                5.0  \n",
       "..                                                 ...                ...  \n",
       "995  First time doing a long term rental. The bar w...                5.0  \n",
       "996  This is my 2nd time staying here, great house,...                5.0  \n",
       "997  Really nice little studio! I spent a month her...                5.0  \n",
       "998  A stunning house, it was a pleasure to stay th...                5.0  \n",
       "999                                                NaN                NaN  \n",
       "\n",
       "[1000 rows x 8 columns]"
      ]
     },
     "execution_count": 26,
     "metadata": {},
     "output_type": "execute_result"
    }
   ],
   "source": [
    "df = pd.read_csv(\"/Users/maukanmir/Downloads/las_vegas_airbnb_data.csv\")\n",
    "df"
   ]
  },
  {
   "cell_type": "markdown",
   "metadata": {},
   "source": [
    "# Check for Nulls and Dupes"
   ]
  },
  {
   "cell_type": "code",
   "execution_count": 27,
   "metadata": {},
   "outputs": [
    {
     "name": "stdout",
     "output_type": "stream",
     "text": [
      "Null Count: roomType                    0\n",
      "stars                     277\n",
      "address                     0\n",
      "numberOfGuests              0\n",
      "primaryHost/smartName       0\n",
      "price                    1000\n",
      "firstReviewComments       205\n",
      "firstReviewRating         205\n",
      "dtype: int64\n",
      "Dupe Count: 157\n"
     ]
    }
   ],
   "source": [
    "print(f\"Null Count: {df.isna().sum()}\")\n",
    "print(f\"Dupe Count: {df.duplicated().sum()}\")"
   ]
  },
  {
   "cell_type": "code",
   "execution_count": 28,
   "metadata": {},
   "outputs": [],
   "source": [
    "df.drop([col for col in df.columns if col not in ['firstReviewComments', 'firstReviewRating']], inplace=True, axis=1)"
   ]
  },
  {
   "cell_type": "code",
   "execution_count": 34,
   "metadata": {},
   "outputs": [],
   "source": [
    "df.drop_duplicates(inplace=True)\n",
    "df.dropna(inplace=True)"
   ]
  },
  {
   "cell_type": "code",
   "execution_count": 35,
   "metadata": {},
   "outputs": [
    {
     "data": {
      "text/plain": [
       "(791, 2)"
      ]
     },
     "execution_count": 35,
     "metadata": {},
     "output_type": "execute_result"
    }
   ],
   "source": [
    "df.shape"
   ]
  },
  {
   "cell_type": "code",
   "execution_count": 36,
   "metadata": {},
   "outputs": [
    {
     "data": {
      "text/html": [
       "<div>\n",
       "<style scoped>\n",
       "    .dataframe tbody tr th:only-of-type {\n",
       "        vertical-align: middle;\n",
       "    }\n",
       "\n",
       "    .dataframe tbody tr th {\n",
       "        vertical-align: top;\n",
       "    }\n",
       "\n",
       "    .dataframe thead th {\n",
       "        text-align: right;\n",
       "    }\n",
       "</style>\n",
       "<table border=\"1\" class=\"dataframe\">\n",
       "  <thead>\n",
       "    <tr style=\"text-align: right;\">\n",
       "      <th></th>\n",
       "      <th>firstReviewComments</th>\n",
       "      <th>firstReviewRating</th>\n",
       "    </tr>\n",
       "  </thead>\n",
       "  <tbody>\n",
       "    <tr>\n",
       "      <th>0</th>\n",
       "      <td>Overall, I had a good experience. The only dow...</td>\n",
       "      <td>4.0</td>\n",
       "    </tr>\n",
       "    <tr>\n",
       "      <th>1</th>\n",
       "      <td>I stayed an extra night. That should sum it up...</td>\n",
       "      <td>5.0</td>\n",
       "    </tr>\n",
       "    <tr>\n",
       "      <th>2</th>\n",
       "      <td>These days things are so impersonable but she ...</td>\n",
       "      <td>5.0</td>\n",
       "    </tr>\n",
       "    <tr>\n",
       "      <th>3</th>\n",
       "      <td>Great response time from owner. Could message ...</td>\n",
       "      <td>5.0</td>\n",
       "    </tr>\n",
       "    <tr>\n",
       "      <th>4</th>\n",
       "      <td>good group of guys in the house. quiet clean a...</td>\n",
       "      <td>5.0</td>\n",
       "    </tr>\n",
       "    <tr>\n",
       "      <th>...</th>\n",
       "      <td>...</td>\n",
       "      <td>...</td>\n",
       "    </tr>\n",
       "    <tr>\n",
       "      <th>994</th>\n",
       "      <td>Great value and walking distance to MGM and st...</td>\n",
       "      <td>5.0</td>\n",
       "    </tr>\n",
       "    <tr>\n",
       "      <th>995</th>\n",
       "      <td>First time doing a long term rental. The bar w...</td>\n",
       "      <td>5.0</td>\n",
       "    </tr>\n",
       "    <tr>\n",
       "      <th>996</th>\n",
       "      <td>This is my 2nd time staying here, great house,...</td>\n",
       "      <td>5.0</td>\n",
       "    </tr>\n",
       "    <tr>\n",
       "      <th>997</th>\n",
       "      <td>Really nice little studio! I spent a month her...</td>\n",
       "      <td>5.0</td>\n",
       "    </tr>\n",
       "    <tr>\n",
       "      <th>998</th>\n",
       "      <td>A stunning house, it was a pleasure to stay th...</td>\n",
       "      <td>5.0</td>\n",
       "    </tr>\n",
       "  </tbody>\n",
       "</table>\n",
       "<p>791 rows × 2 columns</p>\n",
       "</div>"
      ],
      "text/plain": [
       "                                   firstReviewComments  firstReviewRating\n",
       "0    Overall, I had a good experience. The only dow...                4.0\n",
       "1    I stayed an extra night. That should sum it up...                5.0\n",
       "2    These days things are so impersonable but she ...                5.0\n",
       "3    Great response time from owner. Could message ...                5.0\n",
       "4    good group of guys in the house. quiet clean a...                5.0\n",
       "..                                                 ...                ...\n",
       "994  Great value and walking distance to MGM and st...                5.0\n",
       "995  First time doing a long term rental. The bar w...                5.0\n",
       "996  This is my 2nd time staying here, great house,...                5.0\n",
       "997  Really nice little studio! I spent a month her...                5.0\n",
       "998  A stunning house, it was a pleasure to stay th...                5.0\n",
       "\n",
       "[791 rows x 2 columns]"
      ]
     },
     "execution_count": 36,
     "metadata": {},
     "output_type": "execute_result"
    }
   ],
   "source": [
    "df"
   ]
  },
  {
   "cell_type": "markdown",
   "metadata": {},
   "source": [
    "# Change Column Names"
   ]
  },
  {
   "cell_type": "code",
   "execution_count": 41,
   "metadata": {},
   "outputs": [],
   "source": [
    "df.columns = [\"review\", \"rating\"]"
   ]
  },
  {
   "cell_type": "markdown",
   "metadata": {},
   "source": [
    "# Check For Class Imbalance"
   ]
  },
  {
   "cell_type": "code",
   "execution_count": 42,
   "metadata": {},
   "outputs": [
    {
     "name": "stdout",
     "output_type": "stream",
     "text": [
      "Class=4.0, Count=67, Percentage=8.470%\n",
      "Class=5.0, Count=692, Percentage=87.484%\n",
      "Class=1.0, Count=13, Percentage=1.643%\n",
      "Class=3.0, Count=13, Percentage=1.643%\n",
      "Class=2.0, Count=6, Percentage=0.759%\n"
     ]
    },
    {
     "data": {
      "image/png": "[encoded data removed]",
      "text/plain": [
       "<Figure size 1000x500 with 1 Axes>"
      ]
     },
     "metadata": {},
     "output_type": "display_data"
    }
   ],
   "source": [
    "check_class_imbalance(df, df[\"rating\"], \"rating\")"
   ]
  },
  {
   "cell_type": "markdown",
   "metadata": {},
   "source": [
    "# Severe Class Imbalance"
   ]
  },
  {
   "cell_type": "code",
   "execution_count": 43,
   "metadata": {},
   "outputs": [],
   "source": [
    "df['len_text'] = df['review'].apply(lambda x: len(x))\n",
    "df['num_words'] = df['review'].apply(lambda x: len(x.split())) "
   ]
  }
 ],
 "metadata": {
  "kernelspec": {
   "display_name": "machine-learning-env",
   "language": "python",
   "name": "python3"
  },
  "language_info": {
   "codemirror_mode": {
    "name": "ipython",
    "version": 3
   },
   "file_extension": ".py",
   "mimetype": "text/x-python",
   "name": "python",
   "nbconvert_exporter": "python",
   "pygments_lexer": "ipython3",
   "version": "3.9.19"
  }
 },
 "nbformat": 4,
 "nbformat_minor": 2
}
